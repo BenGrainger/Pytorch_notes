{
 "cells": [
  {
   "cell_type": "code",
   "execution_count": 1,
   "metadata": {},
   "outputs": [],
   "source": [
    "import os\n",
    "import re\n",
    "from pathlib import Path\n",
    "import numpy as np\n",
    "from patchify import patchify\n",
    "from PIL import Image"
   ]
  },
  {
   "cell_type": "code",
   "execution_count": 2,
   "id": "fc641737",
   "metadata": {},
   "outputs": [],
   "source": [
    "def create_folders():\n",
    "    FOLDERS = ['train', 'val', 'test']\n",
    "    for folder in FOLDERS:\n",
    "        if not os.path.exists(folder):\n",
    "            folder_imgs = f\"{folder}/images\"\n",
    "            folder_msks = f\"{folder}/masks\"\n",
    "            os.makedirs(folder_imgs) if not os.path.exists(folder_imgs) else print('folder already exists')\n",
    "            os.makedirs(folder_msks) if not os.path.exists(folder_msks) else print('folder already exists')\n",
    "\n",
    "create_folders()"
   ]
  },
  {
   "cell_type": "markdown",
   "id": "fed2109f",
   "metadata": {},
   "source": []
  },
  {
   "cell_type": "code",
   "execution_count": 42,
   "id": "9435adf4",
   "metadata": {},
   "outputs": [],
   "source": [
    "# create patches\n",
    "def create_patches(src, dest_path):\n",
    "    path_split = os.path.split(src)\n",
    "    tile_num = re.findall(r'\\d+', path_split[0])[0]\n",
    "    im = Image.open(src)\n",
    "    im = np.asarray(im)\n",
    "    if len(im.shape) > 2:\n",
    "        file_name_wo_ext = Path(src).stem\n",
    "        patches = patchify(im, (320, 320, 3), step = 300)\n",
    "        for x in range(patches.shape[0]):\n",
    "            for y in range(patches.shape[1]):\n",
    "                patch = patches[x, y, 0]\n",
    "                patch = Image.fromarray(patch)\n",
    "                num = x * patches.shape[1] + y\n",
    "                patch.save(f\"{dest_path}/{file_name_wo_ext}_tile_{tile_num}_patch_{num}.png\")"
   ]
  },
  {
   "cell_type": "code",
   "execution_count": 43,
   "id": "a61dc7a2",
   "metadata": {},
   "outputs": [],
   "source": [
    "for path_name, _, file_name in os.walk(r'C:\\Users\\Crab_workstation\\Desktop\\Semantic segmentation dataset'):\n",
    "    for f in file_name:\n",
    "        if f != 'classes.json': \n",
    "            src = os.path.join(path_name, f)\n",
    "            #print(src)\n",
    "            path_split = os.path.split(path_name)\n",
    "            img_type = path_split[1]\n",
    "            tile_num = re.findall(r'\\d+', path_split[0])[0]\n",
    "\n",
    "            # leave out tile 2, issues with color dim\n",
    "            if tile_num == '3':\n",
    "                target_folder_imgs = 'val'\n",
    "                target_folder_masks = 'val'\n",
    "            elif tile_num == '1':\n",
    "                target_folder_imgs = 'test'\n",
    "                target_folder_masks = 'test'\n",
    "            elif tile_num in ['4', '5', '6', '7', '8']:\n",
    "                target_folder_imgs = 'train'\n",
    "                target_folder_masks = 'train'\n",
    "\n",
    "            file_name_wo_ext = Path(src).stem\n",
    "            img_file = f\"{path_split[0]}/images/{file_name_wo_ext}.jpg\"\n",
    "            mask_file = f\"{path_split[0]}/masks/{file_name_wo_ext}.png\"\n",
    "            if os.path.exists(img_file) and os.path.exists(mask_file):\n",
    "                if img_type == 'images':\n",
    "                    dest = os.path.join(target_folder_imgs, img_type)\n",
    "                    create_patches(src=src, dest_path=dest)\n",
    "\n",
    "                # copy all masks\n",
    "                if img_type == 'masks':\n",
    "                    dest = os.path.join(target_folder_masks, img_type)\n",
    "                    create_patches(src=src, dest_path=dest)"
   ]
  },
  {
   "cell_type": "code",
   "execution_count": null,
   "id": "583bc837",
   "metadata": {},
   "outputs": [],
   "source": []
  },
  {
   "cell_type": "code",
   "execution_count": null,
   "id": "b8b8c632",
   "metadata": {},
   "outputs": [],
   "source": []
  },
  {
   "cell_type": "code",
   "execution_count": null,
   "id": "962c864a",
   "metadata": {},
   "outputs": [],
   "source": []
  }
 ],
 "metadata": {
  "kernelspec": {
   "display_name": "Python 3 (ipykernel)",
   "language": "python",
   "name": "python3"
  },
  "language_info": {
   "codemirror_mode": {
    "name": "ipython",
    "version": 3
   },
   "file_extension": ".py",
   "mimetype": "text/x-python",
   "name": "python",
   "nbconvert_exporter": "python",
   "pygments_lexer": "ipython3",
   "version": "3.10.12"
  }
 },
 "nbformat": 4,
 "nbformat_minor": 5
}
