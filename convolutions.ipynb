{
 "cells": [
  {
   "cell_type": "code",
   "execution_count": 1,
   "metadata": {},
   "outputs": [],
   "source": [
    "#%%\n",
    "import torch\n",
    "from torchvision import transforms\n",
    "from PIL import Image\n",
    "import matplotlib.pyplot as plt\n",
    "import numpy as np\n",
    "# %% import image\n",
    "img = Image.open('B053.jpg')"
   ]
  },
  {
   "cell_type": "code",
   "execution_count": 3,
   "id": "d848c13c",
   "metadata": {},
   "outputs": [
    {
     "data": {
      "text/plain": [
       "(5896, 5768)"
      ]
     },
     "execution_count": 3,
     "metadata": {},
     "output_type": "execute_result"
    }
   ],
   "source": [
    "img.size"
   ]
  },
  {
   "cell_type": "code",
   "execution_count": 16,
   "id": "9426926d",
   "metadata": {},
   "outputs": [],
   "source": [
    "preprocess_steps = transforms.Compose([\n",
    "    transforms.Resize((300, 300)),\n",
    "    transforms.RandomRotation(50),\n",
    "    transforms.CenterCrop(200),\n",
    "    transforms.RandomVerticalFlip(),\n",
    "    transforms.ToTensor(),\n",
    "    transforms.Normalize(mean=[0.5], std=[0.5])\n",
    "])\n",
    "x = preprocess_steps(img)"
   ]
  },
  {
   "cell_type": "code",
   "execution_count": 18,
   "id": "dd306df6",
   "metadata": {},
   "outputs": [
    {
     "data": {
      "text/plain": [
       "(tensor(0.2928), tensor(0.1251))"
      ]
     },
     "execution_count": 18,
     "metadata": {},
     "output_type": "execute_result"
    }
   ],
   "source": [
    "x.mean(), x.std()"
   ]
  },
  {
   "cell_type": "code",
   "execution_count": 19,
   "id": "3d37ac45",
   "metadata": {},
   "outputs": [],
   "source": [
    "# layer calculations\n",
    "# e.g. nn.Conv3d() structure = [batch_size, channels, depth, height, width] e.g. [16,1,8,300,300]\n",
    "# or like just LSD might be [16,1,8,300,300] but LSD + crop is [16,2,8,300,300]"
   ]
  },
  {
   "cell_type": "code",
   "execution_count": 47,
   "id": "d1468148",
   "metadata": {},
   "outputs": [],
   "source": [
    "#%% packages\n",
    "from typing import OrderedDict\n",
    "import torch\n",
    "import torch.nn as nn\n",
    "\n",
    "#%% sample input data of certain shape\n",
    "input = torch.rand((1, 3, 32, 32))\n",
    "\n",
    "# %%\n",
    "model = nn.Sequential(OrderedDict([\n",
    "    ('conv1', nn.Conv2d(3, 8, 3)), # out: (BS, 8, 30, 30)\n",
    "    ('relu1', nn.ReLU()),\n",
    "    ('pool', nn.MaxPool2d(2, 2)), # out: (BS, 8, 15, 15)\n",
    "    ('conv2', nn.Conv2d(8, 16, 3)), # out: (BS, 16, 13, 13)\n",
    "    ('relu2', nn.ReLU()),\n",
    "    ('pool2', nn.MaxPool2d(2, 2)), # out: (BS, 16, 6, 6)\n",
    "    ('flatten', nn.Flatten()),  # shape: (3, 16*6*6)\n",
    "    ('fc1', nn.Linear(16 * 6 * 6, 127)),\n",
    "    ('relu3', nn.ReLU()),\n",
    "    ('fc2', nn.Linear(127, 64)),\n",
    "    ('relu4', nn.ReLU()),\n",
    "    ('fc3', nn.Linear(64, 1)),\n",
    "    ('sigmoid', nn.Sigmoid())\n",
    "]))\n",
    "\n",
    "# %% test the model setup"
   ]
  },
  {
   "cell_type": "code",
   "execution_count": 48,
   "id": "b54cd7a7",
   "metadata": {},
   "outputs": [
    {
     "data": {
      "text/plain": [
       "torch.Size([1, 1])"
      ]
     },
     "execution_count": 48,
     "metadata": {},
     "output_type": "execute_result"
    }
   ],
   "source": [
    "model(input).shape"
   ]
  },
  {
   "cell_type": "code",
   "execution_count": 49,
   "id": "bebeeab5",
   "metadata": {},
   "outputs": [],
   "source": [
    "import segmentation_models_pytorch as smp"
   ]
  },
  {
   "cell_type": "code",
   "execution_count": null,
   "id": "bfce7900",
   "metadata": {},
   "outputs": [],
   "source": [
    "smp.Unet"
   ]
  }
 ],
 "metadata": {
  "kernelspec": {
   "display_name": "Python 3 (ipykernel)",
   "language": "python",
   "name": "python3"
  },
  "language_info": {
   "codemirror_mode": {
    "name": "ipython",
    "version": 3
   },
   "file_extension": ".py",
   "mimetype": "text/x-python",
   "name": "python",
   "nbconvert_exporter": "python",
   "pygments_lexer": "ipython3",
   "version": "3.10.12"
  }
 },
 "nbformat": 4,
 "nbformat_minor": 5
}
